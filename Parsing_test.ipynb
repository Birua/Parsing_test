{
 "cells": [
  {
   "cell_type": "code",
   "execution_count": 1,
   "metadata": {},
   "outputs": [
    {
     "name": "stdout",
     "output_type": "stream",
     "text": [
      "Reinvent Technology Partners Y  IPO Investment Prospectus S-1/A\n",
      " * Number of shares: 12,218,750\n",
      " * IPO Price: $11.50\n",
      " * Unit Price: $10.00\n",
      "Viant Technology Inc.  IPO Investment Prospectus S-1/A\n",
      " * Number of shares: 8,500,000\n",
      " * IPO Price: $22.00 - $24.00\n",
      "Landcadia Holdings Iv, Inc.  IPO Investment Prospectus S-1/A\n",
      " * Number of shares: 14,375,000\n",
      " * IPO Price: $ 11.50\n",
      " * Unit Price: $10.00\n",
      "Landos Biopharma, Inc.  IPO Investment Prospectus S-1/A\n",
      " * Number of shares: 6,250,000\n",
      " * IPO Price: $15.00 - $17.00\n",
      " * Unit Price: $15.00 - $17.00\n",
      "Oscar Health, Inc.  IPO Investment Prospectus S-1/A\n",
      " * Number of shares: 30,350,920\n",
      " * IPO Price: $33.00\n",
      " * Unit Price: $32.00 - $34.00\n"
     ]
    }
   ],
   "source": [
    "from requests_html import HTMLSession\n",
    "# https://github.com/psf/requests-html\n",
    "import re\n",
    "from bs4 import BeautifulSoup\n",
    "\n",
    "session = HTMLSession()\n",
    "url_list = ['https://sec.report/Document/0001193125-21-072571/',\n",
    "        'https://sec.report/Document/0001193125-21-031547/',\n",
    "        'https://sec.report/Document/0001104659-21-037813/',\n",
    "        'https://sec.report/Document/0001193125-21-024746/',\n",
    "        'https://sec.report/Document/0001193125-21-056708/',\n",
    "]\n",
    "patterns_Shares = ['(\\d{1,},\\d{3},\\d{3})[^,]+'\n",
    "                '(\\$\\d{2}\\.\\d{2}).and.(\\$\\d{2}\\.\\d{2}).per.[sS]hare',\n",
    "                '(\\d{1,},\\d{3},\\d{3}).[sS]hares'\n",
    "                '[\\s\\S\\n ]{1,100}'\n",
    "                '(\\$.{0,2}\\d{2}\\.\\d{2})',                   \n",
    "                '(\\d{1,},\\d{3},\\d{3})'\n",
    "                '[\\s\\S\\n ]{1,130}'\n",
    "                'at a price'\n",
    "                '[\\s\\S\\n ]{1,50}'\n",
    "                '(\\$\\d{2}\\.\\d{2}).per.{1,8}[sS]hare',\n",
    "                ]\n",
    "patterns_IPO = ['initial public offering price'\n",
    "                '.{1,150}'\n",
    "                '(\\$\\d{2}\\.\\d{2}).and.(\\$\\d{2}\\.\\d{2})',\n",
    "                'unit has an offering price of (\\$\\d{2}\\.\\d{2})',\n",
    "               ]\n",
    "for url in url_list:\n",
    "    r = session.get(url)\n",
    "    soup = BeautifulSoup(r.content, \"html.parser\")\n",
    "    title = soup.find(\"meta\", property=\"og:title\")\n",
    "    print(title.get('content','No Title'))\n",
    "\n",
    "    for pattern in patterns_Shares:\n",
    "        shares_data = re.findall(pattern, soup.getText())\n",
    "        if len(shares_data) > 0:\n",
    "            print(f' * Number of shares: {shares_data[0][0]}')\n",
    "            ipo_price = shares_data[0][1:]\n",
    "            print(f' * IPO Price: {\" - \".join(ipo_price)}')\n",
    "            break\n",
    "    for pattern in patterns_IPO:\n",
    "        shares_data = re.findall(pattern, soup.getText())\n",
    "        if len(shares_data) > 0:\n",
    "            unit_price = shares_data[0]\n",
    "            if len(unit_price) == 2:\n",
    "                print(f' * Unit Price: {\" - \".join(unit_price)}')\n",
    "            else:\n",
    "                print(f' * Unit Price: {unit_price}')\n",
    "            break"
   ]
  },
  {
   "cell_type": "code",
   "execution_count": null,
   "metadata": {},
   "outputs": [],
   "source": []
  }
 ],
 "metadata": {
  "kernelspec": {
   "display_name": "Python 3",
   "language": "python",
   "name": "python3"
  },
  "language_info": {
   "codemirror_mode": {
    "name": "ipython",
    "version": 3
   },
   "file_extension": ".py",
   "mimetype": "text/x-python",
   "name": "python",
   "nbconvert_exporter": "python",
   "pygments_lexer": "ipython3",
   "version": "3.8.3"
  }
 },
 "nbformat": 4,
 "nbformat_minor": 4
}
